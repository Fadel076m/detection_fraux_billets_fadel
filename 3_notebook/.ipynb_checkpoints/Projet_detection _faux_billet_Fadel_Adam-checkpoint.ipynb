{
 "cells": [
  {
   "cell_type": "markdown",
   "id": "046636af-2b5c-4a6e-ad47-0da503c776d9",
   "metadata": {},
   "source": [
    "<div style=\"background-color: #0c2707; border-radius: 10px; padding: 25px 0; margin-bottom: 20px; box-shadow: 0px 0px 10px rgba(0,0,0,0.2);\">\n",
    "  <h1 style=\"color: #ffffff; text-align: center; font-family: 'Segoe UI', sans-serif; font-size: 36px; margin-bottom: 10px;\">\n",
    "    Machine Learning - Projet de Classification\n",
    "  </h1>\n",
    "  <h2 style=\"color: #e0e0e0; text-align: center; font-family: 'Segoe UI', sans-serif; font-weight: 300; font-size: 24px;\">\n",
    "    Détection automatique de faux billets en euros\n",
    "  </h2>\n",
    "</div>\n"
   ]
  },
  {
   "cell_type": "markdown",
   "id": "8d489242-e435-4679-a235-a842db7b8431",
   "metadata": {},
   "source": [
    "<h3 style=\"color: #00b300;\">1. Contexte</h3>\n",
    "\n",
    "<div style=\"font-size:14px; font-family: 'Segoe UI', sans-serif;  line-height: 1.4;\">\n",
    "\n",
    "Les faux billets constituent une menace sérieuse pour l’économie et la stabilité monétaire.  \n",
    "Grâce à des capteurs spécialisés, il est possible de mesurer des caractéristiques géométriques invisibles à l’œil nu, mais révélatrices de la contrefaçon.\n",
    "\n",
    "Ce projet vise à exploiter ces mesures pour entraîner un **modèle d’apprentissage automatique** capable de **discerner les vrais billets des faux** de manière fiable et automatique.\n",
    "\n",
    "</div>\n",
    "\n",
    "\n",
    "<h3 style=\"color: #00b300;\">2. Objectif</h3>\n",
    "\n",
    "<div style=\"font-size:14px; font-family: 'Segoe UI', sans-serif;  line-height: 1.4;\">\n",
    "\n",
    "Développer un algorithme capable de prédire si un billet est **authentique** ou **faux**, à partir de ses **6 caractéristiques géométriques** :\n",
    "\n",
    "- `length` : longueur du billet (en mm)  \n",
    "- `height_left` : hauteur à gauche  \n",
    "- `height_right` : hauteur à droite  \n",
    "- `margin_up` : marge supérieure  \n",
    "- `margin_low` : marge inférieure  \n",
    "- `diagonal` : diagonale du billet\n",
    "\n",
    "</div>\n",
    "\n",
    "\n",
    "<h3 style=\"color: #00b300;\">3. Type de problème</h3> \n",
    "\n",
    "<div style=\"font-size:14px; font-family: 'Segoe UI', sans-serif;  line-height: 1.4;\">\n",
    "\n",
    "Il s'agit d'un problème de **classification binaire** et le type de d'apprentissage est **un apprissage supervisée**, car notre objectif est de prédire une **étiquette** (vrai ou faux billet) à partir de variables explicatives continues.\n",
    "\n",
    "Nous allons entraîner et comparer les performances de **quatre approches différentes** :\n",
    "\n",
    "- 🔹 Régression Logistique  \n",
    "- 🔹 K-means (non supervisé – clustering)  \n",
    "- 🔹 K-Nearest Neighbors (KNN)  \n",
    "- 🔹 Random Forest  \n",
    "\n",
    "</div>\n"
   ]
  },
  {
   "cell_type": "markdown",
   "id": "da0212d0-4983-4fcc-b7a9-d7422e0284b0",
   "metadata": {},
   "source": [
    "<div style=\"background-color: #0c2707; border-radius: 10px;\" >\n",
    "<h2 style=\"margin: auto; padding: 20px; color:#fff; \">Etape 1 - EDA : Analyse Exploratoire des Données</h2>\n",
    "</div>"
   ]
  },
  {
   "cell_type": "markdown",
   "id": "6370f94c-4dab-4334-963a-e93afe72917d",
   "metadata": {},
   "source": [
    "<div style=\" border: 2px solid #00b300; border-radius: 8px; background-color: #ffffff; padding: 10px 20px; margin: 20px 0;\">\n",
    "  <h2 style=\"color: #0c2707; font-family: 'Segoe UI', sans-serif; font-weight: 600; margin: 0;\">\n",
    "    1.1 Importation des librairies et données\n",
    "  </h2>\n",
    "</div>"
   ]
  },
  {
   "cell_type": "code",
   "execution_count": 4,
   "id": "5cc79faa-8af7-4630-85d8-34589124cd7a",
   "metadata": {},
   "outputs": [],
   "source": [
    "# Librairies pour la manipulation des données\n",
    "import pandas as pd\n",
    "import numpy as np\n",
    "\n",
    "# Visualisation\n",
    "import matplotlib.pyplot as plt\n",
    "import seaborn as sns\n",
    "\n"
   ]
  },
  {
   "cell_type": "code",
   "execution_count": 5,
   "id": "3a06b11b-6f84-4a53-b36d-508949cf5656",
   "metadata": {},
   "outputs": [],
   "source": [
    "# Chargement du fichier CSV contenant les données des billets\n",
    "df = pd.read_csv(\"billets.csv\", sep = \";\")"
   ]
  },
  {
   "cell_type": "code",
   "execution_count": 6,
   "id": "4cce9a29-6362-4c99-9e32-1c9b89d94927",
   "metadata": {},
   "outputs": [
    {
     "data": {
      "text/html": [
       "<div>\n",
       "<style scoped>\n",
       "    .dataframe tbody tr th:only-of-type {\n",
       "        vertical-align: middle;\n",
       "    }\n",
       "\n",
       "    .dataframe tbody tr th {\n",
       "        vertical-align: top;\n",
       "    }\n",
       "\n",
       "    .dataframe thead th {\n",
       "        text-align: right;\n",
       "    }\n",
       "</style>\n",
       "<table border=\"1\" class=\"dataframe\">\n",
       "  <thead>\n",
       "    <tr style=\"text-align: right;\">\n",
       "      <th></th>\n",
       "      <th>is_genuine</th>\n",
       "      <th>diagonal</th>\n",
       "      <th>height_left</th>\n",
       "      <th>height_right</th>\n",
       "      <th>margin_low</th>\n",
       "      <th>margin_up</th>\n",
       "      <th>length</th>\n",
       "    </tr>\n",
       "  </thead>\n",
       "  <tbody>\n",
       "    <tr>\n",
       "      <th>0</th>\n",
       "      <td>True</td>\n",
       "      <td>171.81</td>\n",
       "      <td>104.86</td>\n",
       "      <td>104.95</td>\n",
       "      <td>4.52</td>\n",
       "      <td>2.89</td>\n",
       "      <td>112.83</td>\n",
       "    </tr>\n",
       "    <tr>\n",
       "      <th>1</th>\n",
       "      <td>True</td>\n",
       "      <td>171.46</td>\n",
       "      <td>103.36</td>\n",
       "      <td>103.66</td>\n",
       "      <td>3.77</td>\n",
       "      <td>2.99</td>\n",
       "      <td>113.09</td>\n",
       "    </tr>\n",
       "    <tr>\n",
       "      <th>2</th>\n",
       "      <td>True</td>\n",
       "      <td>172.69</td>\n",
       "      <td>104.48</td>\n",
       "      <td>103.50</td>\n",
       "      <td>4.40</td>\n",
       "      <td>2.94</td>\n",
       "      <td>113.16</td>\n",
       "    </tr>\n",
       "    <tr>\n",
       "      <th>3</th>\n",
       "      <td>True</td>\n",
       "      <td>171.36</td>\n",
       "      <td>103.91</td>\n",
       "      <td>103.94</td>\n",
       "      <td>3.62</td>\n",
       "      <td>3.01</td>\n",
       "      <td>113.51</td>\n",
       "    </tr>\n",
       "    <tr>\n",
       "      <th>4</th>\n",
       "      <td>True</td>\n",
       "      <td>171.73</td>\n",
       "      <td>104.28</td>\n",
       "      <td>103.46</td>\n",
       "      <td>4.04</td>\n",
       "      <td>3.48</td>\n",
       "      <td>112.54</td>\n",
       "    </tr>\n",
       "  </tbody>\n",
       "</table>\n",
       "</div>"
      ],
      "text/plain": [
       "   is_genuine  diagonal  height_left  height_right  margin_low  margin_up  \\\n",
       "0        True    171.81       104.86        104.95        4.52       2.89   \n",
       "1        True    171.46       103.36        103.66        3.77       2.99   \n",
       "2        True    172.69       104.48        103.50        4.40       2.94   \n",
       "3        True    171.36       103.91        103.94        3.62       3.01   \n",
       "4        True    171.73       104.28        103.46        4.04       3.48   \n",
       "\n",
       "   length  \n",
       "0  112.83  \n",
       "1  113.09  \n",
       "2  113.16  \n",
       "3  113.51  \n",
       "4  112.54  "
      ]
     },
     "execution_count": 6,
     "metadata": {},
     "output_type": "execute_result"
    }
   ],
   "source": [
    "# Aperçu rapide des données\n",
    "df.head()"
   ]
  },
  {
   "cell_type": "code",
   "execution_count": 7,
   "id": "4034328a-915b-4a54-b27f-eff217a4dfc5",
   "metadata": {},
   "outputs": [
    {
     "data": {
      "text/plain": [
       "is_genuine\n",
       "True     1000\n",
       "False     500\n",
       "Name: count, dtype: int64"
      ]
     },
     "execution_count": 7,
     "metadata": {},
     "output_type": "execute_result"
    }
   ],
   "source": [
    "df[\"is_genuine\"].value_counts()"
   ]
  },
  {
   "cell_type": "markdown",
   "id": "40f1a835-2204-4674-9ffc-d11915c264aa",
   "metadata": {},
   "source": [
    "<div style=\" border: 2px solid #00b300; border-radius: 8px; background-color: #ffffff; padding: 10px 20px; margin: 20px 0;\">\n",
    "  <h2 style=\"color: #0c2707; font-family: 'Segoe UI', sans-serif; font-weight: 600; margin: 0;\">\n",
    "    1.2 Analyse Generales\n",
    "  </h2>\n",
    "</div>"
   ]
  },
  {
   "cell_type": "code",
   "execution_count": 8,
   "id": "1e5cb731-0021-4dd8-8816-00a2d97918c3",
   "metadata": {},
   "outputs": [
    {
     "name": "stdout",
     "output_type": "stream",
     "text": [
      "Colonnes disponibles : ['is_genuine', 'diagonal', 'height_left', 'height_right', 'margin_low', 'margin_up', 'length']\n",
      "le nombre de lignes et de colonnes sont :  (1500, 7)\n"
     ]
    }
   ],
   "source": [
    "# Realiser une analyse statitstique du df\n",
    "# Aperçu général des colonnes\n",
    "print(\"Colonnes disponibles :\", df.columns.tolist())\n",
    "\n",
    "# Dimensions des données\n",
    "print(\"le nombre de lignes et de colonnes sont : \", df.shape)"
   ]
  },
  {
   "cell_type": "markdown",
   "id": "42d02eaa-0e54-4e2a-82ec-5b1798c474d5",
   "metadata": {},
   "source": [
    "#### *On se rend compte que dans notre Dataset on a 1500 lignes et 7 colonnes (variables)* "
   ]
  },
  {
   "cell_type": "code",
   "execution_count": 9,
   "id": "8e223b04-b046-4fad-9284-a4638c90da49",
   "metadata": {},
   "outputs": [
    {
     "name": "stdout",
     "output_type": "stream",
     "text": [
      "\n",
      " Types de données :\n",
      "is_genuine         bool\n",
      "diagonal        float64\n",
      "height_left     float64\n",
      "height_right    float64\n",
      "margin_low      float64\n",
      "margin_up       float64\n",
      "length          float64\n",
      "dtype: object\n"
     ]
    }
   ],
   "source": [
    "# identifiez la nature de chaque variable - les types de variables\n",
    "print(\"\\n Types de données :\")\n",
    "print(df.dtypes)"
   ]
  },
  {
   "cell_type": "markdown",
   "id": "23ef550e-260c-4a52-bd17-1691c1660fe5",
   "metadata": {},
   "source": [
    "#### *Toutes les données sont de types decimales et le target\"is_genuine\" est un booleen*"
   ]
  },
  {
   "cell_type": "code",
   "execution_count": 10,
   "id": "8dce663a-5e52-4563-9a62-b2ef0e820711",
   "metadata": {},
   "outputs": [
    {
     "name": "stdout",
     "output_type": "stream",
     "text": [
      "\n",
      " Statistiques de base (variables numériques) :\n"
     ]
    },
    {
     "data": {
      "text/html": [
       "<div>\n",
       "<style scoped>\n",
       "    .dataframe tbody tr th:only-of-type {\n",
       "        vertical-align: middle;\n",
       "    }\n",
       "\n",
       "    .dataframe tbody tr th {\n",
       "        vertical-align: top;\n",
       "    }\n",
       "\n",
       "    .dataframe thead th {\n",
       "        text-align: right;\n",
       "    }\n",
       "</style>\n",
       "<table border=\"1\" class=\"dataframe\">\n",
       "  <thead>\n",
       "    <tr style=\"text-align: right;\">\n",
       "      <th></th>\n",
       "      <th>count</th>\n",
       "      <th>mean</th>\n",
       "      <th>std</th>\n",
       "      <th>min</th>\n",
       "      <th>25%</th>\n",
       "      <th>50%</th>\n",
       "      <th>75%</th>\n",
       "      <th>max</th>\n",
       "    </tr>\n",
       "  </thead>\n",
       "  <tbody>\n",
       "    <tr>\n",
       "      <th>diagonal</th>\n",
       "      <td>1500.0</td>\n",
       "      <td>171.958440</td>\n",
       "      <td>0.305195</td>\n",
       "      <td>171.04</td>\n",
       "      <td>171.750</td>\n",
       "      <td>171.96</td>\n",
       "      <td>172.17</td>\n",
       "      <td>173.01</td>\n",
       "    </tr>\n",
       "    <tr>\n",
       "      <th>height_left</th>\n",
       "      <td>1500.0</td>\n",
       "      <td>104.029533</td>\n",
       "      <td>0.299462</td>\n",
       "      <td>103.14</td>\n",
       "      <td>103.820</td>\n",
       "      <td>104.04</td>\n",
       "      <td>104.23</td>\n",
       "      <td>104.88</td>\n",
       "    </tr>\n",
       "    <tr>\n",
       "      <th>height_right</th>\n",
       "      <td>1500.0</td>\n",
       "      <td>103.920307</td>\n",
       "      <td>0.325627</td>\n",
       "      <td>102.82</td>\n",
       "      <td>103.710</td>\n",
       "      <td>103.92</td>\n",
       "      <td>104.15</td>\n",
       "      <td>104.95</td>\n",
       "    </tr>\n",
       "    <tr>\n",
       "      <th>margin_low</th>\n",
       "      <td>1463.0</td>\n",
       "      <td>4.485967</td>\n",
       "      <td>0.663813</td>\n",
       "      <td>2.98</td>\n",
       "      <td>4.015</td>\n",
       "      <td>4.31</td>\n",
       "      <td>4.87</td>\n",
       "      <td>6.90</td>\n",
       "    </tr>\n",
       "    <tr>\n",
       "      <th>margin_up</th>\n",
       "      <td>1500.0</td>\n",
       "      <td>3.151473</td>\n",
       "      <td>0.231813</td>\n",
       "      <td>2.27</td>\n",
       "      <td>2.990</td>\n",
       "      <td>3.14</td>\n",
       "      <td>3.31</td>\n",
       "      <td>3.91</td>\n",
       "    </tr>\n",
       "    <tr>\n",
       "      <th>length</th>\n",
       "      <td>1500.0</td>\n",
       "      <td>112.678500</td>\n",
       "      <td>0.872730</td>\n",
       "      <td>109.49</td>\n",
       "      <td>112.030</td>\n",
       "      <td>112.96</td>\n",
       "      <td>113.34</td>\n",
       "      <td>114.44</td>\n",
       "    </tr>\n",
       "  </tbody>\n",
       "</table>\n",
       "</div>"
      ],
      "text/plain": [
       "               count        mean       std     min      25%     50%     75%  \\\n",
       "diagonal      1500.0  171.958440  0.305195  171.04  171.750  171.96  172.17   \n",
       "height_left   1500.0  104.029533  0.299462  103.14  103.820  104.04  104.23   \n",
       "height_right  1500.0  103.920307  0.325627  102.82  103.710  103.92  104.15   \n",
       "margin_low    1463.0    4.485967  0.663813    2.98    4.015    4.31    4.87   \n",
       "margin_up     1500.0    3.151473  0.231813    2.27    2.990    3.14    3.31   \n",
       "length        1500.0  112.678500  0.872730  109.49  112.030  112.96  113.34   \n",
       "\n",
       "                 max  \n",
       "diagonal      173.01  \n",
       "height_left   104.88  \n",
       "height_right  104.95  \n",
       "margin_low      6.90  \n",
       "margin_up       3.91  \n",
       "length        114.44  "
      ]
     },
     "metadata": {},
     "output_type": "display_data"
    }
   ],
   "source": [
    "# Statistiques descriptives générales\n",
    "print(\"\\n Statistiques de base (variables numériques) :\")\n",
    "display(df.describe().T)"
   ]
  },
  {
   "cell_type": "markdown",
   "id": "70216d9d-d513-4be0-a9cb-388534e587f8",
   "metadata": {},
   "source": [
    "#### Les 6 variables géométriques sont bien mesurées pour 1 500 billets, sauf *margin_low qui n’a que 1 463 valeurs* → donc il y a des valeurs manquantes à gérer plus tard. Les mesures montrent une faible dispersion (écart-type faible), ce qui signifie que les dimensions des billets sont globalement très proches."
   ]
  },
  {
   "cell_type": "code",
   "execution_count": 11,
   "id": "c070679e-a8ff-4aa0-9862-ec78d4034838",
   "metadata": {},
   "outputs": [
    {
     "data": {
      "image/png": "[encoded data removed]",
      "text/plain": [
       "<Figure size 1200x800 with 6 Axes>"
      ]
     },
     "metadata": {},
     "output_type": "display_data"
    }
   ],
   "source": [
    "# --- Histogrammes par variable ---\n",
    "df.hist(bins=30, figsize=(12, 8), edgecolor='black')\n",
    "plt.suptitle(\"Distribution des variables géométriques\", fontsize=16)\n",
    "plt.show()"
   ]
  },
  {
   "cell_type": "code",
   "execution_count": 12,
   "id": "ec08c143-e6e5-494d-9c3a-b66b0ff617ff",
   "metadata": {},
   "outputs": [
    {
     "name": "stderr",
     "output_type": "stream",
     "text": [
      "C:\\Users\\Fureur\\AppData\\Local\\Temp\\ipykernel_15356\\362587428.py:3: FutureWarning: \n",
      "\n",
      "Passing `palette` without assigning `hue` is deprecated and will be removed in v0.14.0. Assign the `x` variable to `hue` and set `legend=False` for the same effect.\n",
      "\n",
      "  sns.countplot(x='is_genuine', data=df, palette=\"Set1\")\n"
     ]
    },
    {
     "data": {
      "image/png": "[encoded data removed]",
      "text/plain": [
       "<Figure size 600x400 with 1 Axes>"
      ]
     },
     "metadata": {},
     "output_type": "display_data"
    }
   ],
   "source": [
    "# --- Répartition des vrais vs faux billets ---\n",
    "plt.figure(figsize=(6,4))\n",
    "sns.countplot(x='is_genuine', data=df, palette=\"Set1\")\n",
    "plt.title(\"Répartition des vrais et faux billets\", fontsize=14)\n",
    "plt.xlabel(\"Classe (vrai/faux)\")\n",
    "plt.ylabel(\"Nombre de billets\")\n",
    "plt.show()"
   ]
  },
  {
   "cell_type": "markdown",
   "id": "fdfa7623-c5a0-4a6d-8d02-74a4d2c4e5a6",
   "metadata": {},
   "source": [
    "#### *Notre dataset contient deux fois plus de vrais que de faux billets (66% vs 33%).*\n",
    "Un modèle naïf qui prédirait toujours \"vrai\" atteindrait déjà 66% d’accuracy, ce qui montre que l’accuracy seule n’est pas suffisante. Il est donc essentiel d’utiliser des métriques comme *la précision, le rappel et le F1-score,* en particulier pour bien détecter la classe minoritaire (les faux billets), qui est la plus critique dans ce contexte."
   ]
  },
  {
   "cell_type": "markdown",
   "id": "a98a415a-d189-48bf-85a4-07dfe0fe8a2b",
   "metadata": {},
   "source": [
    "<div style=\"background-color: #0c2707; border-radius: 10px;\" >\n",
    "<h2 style=\"margin: auto; padding: 20px; color:#fff; \">Etape 2 - Nettoyage et preparation des donnees</h2>\n",
    "</div>"
   ]
  },
  {
   "cell_type": "markdown",
   "id": "82f52daf-3898-4f91-9039-de9092f0a855",
   "metadata": {},
   "source": [
    "<div style=\" border: 2px solid #00b300; border-radius: 8px; background-color: #ffffff; padding: 10px 20px; margin: 20px 0;\">\n",
    "  <h2 style=\"color: #0c2707; font-family: 'Segoe UI', sans-serif; font-weight: 600; margin: 0;\">\n",
    "    2.1 Renommée les colonnes\n",
    "  </h2>\n",
    "</div>"
   ]
  },
  {
   "cell_type": "code",
   "execution_count": 13,
   "id": "e32f2016-ce25-4935-b2ad-d526dd03f41a",
   "metadata": {},
   "outputs": [
    {
     "name": "stdout",
     "output_type": "stream",
     "text": [
      "Colonnes après renommage : ['Target', 'diagonal', 'height_left', 'height_right', 'margin_low', 'margin_up', 'length']\n"
     ]
    }
   ],
   "source": [
    "# Renommer la colonne cible\n",
    "df.rename(columns={\"is_genuine\": \"Target\"}, inplace=True)\n",
    "\n",
    "# Vérification que le renommage a bien fonctionné\n",
    "print(\"Colonnes après renommage :\", df.columns.tolist())"
   ]
  },
  {
   "cell_type": "markdown",
   "id": "7c85aeff-4d6c-4508-a46a-d9f77d6434f8",
   "metadata": {},
   "source": [
    "<div style=\" border: 2px solid #00b300; border-radius: 8px; background-color: #ffffff; padding: 10px 20px; margin: 20px 0;\">\n",
    "  <h2 style=\"color: #0c2707; font-family: 'Segoe UI', sans-serif; font-weight: 600; margin: 0;\">\n",
    "    2.2 Verifiaction des Valeurs manquantes et imputation\n",
    "  </h2>\n",
    "</div>"
   ]
  },
  {
   "cell_type": "code",
   "execution_count": 14,
   "id": "bd3bb06f-853f-45af-9761-d290c5eb04de",
   "metadata": {},
   "outputs": [
    {
     "name": "stdout",
     "output_type": "stream",
     "text": [
      "\n",
      " Valeurs manquantes par variable :\n",
      "Target           0\n",
      "diagonal         0\n",
      "height_left      0\n",
      "height_right     0\n",
      "margin_low      37\n",
      "margin_up        0\n",
      "length           0\n",
      "dtype: int64\n"
     ]
    }
   ],
   "source": [
    "# Vérifier les valeurs manquantes\n",
    "print(\"\\n Valeurs manquantes par variable :\")\n",
    "print(df.isnull().sum())"
   ]
  },
  {
   "cell_type": "markdown",
   "id": "1533daa5-8c3e-4b13-b6e3-78c52051e261",
   "metadata": {},
   "source": [
    "#### Nous remarquons qu’il existe des valeurs manquantes au niveau de la variable marge inférieure (margin_low).\n",
    "Étant une variable numérique continue, deux approches classiques peuvent être utilisées pour le remplacement :\n",
    "\n",
    "- Remplacer par la médiane → adapté si la distribution est asymétrique ou contient des valeurs extrêmes (outliers).\n",
    "- Remplacer par la moyenne → adapté si la distribution est normale (symétrique).\n",
    "\n",
    "Pour cela nous allons passer par le diagramme à moustache pour vérifier la présence des outliers."
   ]
  },
  {
   "cell_type": "code",
   "execution_count": 15,
   "id": "71c7c0f1-1320-4546-9e00-353a6592bbbd",
   "metadata": {},
   "outputs": [
    {
     "data": {
      "image/png": "[encoded data removed]",
      "text/plain": [
       "<Figure size 800x500 with 1 Axes>"
      ]
     },
     "metadata": {},
     "output_type": "display_data"
    }
   ],
   "source": [
    "# Diagramme à moustaches pour margin_low\n",
    "plt.figure(figsize=(8,5))\n",
    "sns.boxplot(y=df['margin_low'], color='lightgreen')\n",
    "plt.title(\"Diagramme à moustaches de la marge inférieure (margin_low)\", fontsize=14)\n",
    "plt.xlabel(\"margin_low (mm)\")\n",
    "plt.grid(True, axis='y', linestyle='--', alpha=0.5)\n",
    "plt.show()"
   ]
  },
  {
   "cell_type": "markdown",
   "id": "8cf2a9ff-3d3b-45fc-aa32-a22ab34e9b2f",
   "metadata": {},
   "source": [
    "#### D’après les diagrammes a moustache, la distribution de margin_low n’est pas symétrique et contient des outliers.\n",
    "#### *Nous choisissons donc de remplacer les valeurs manquantes par la médiane.*"
   ]
  },
  {
   "cell_type": "code",
   "execution_count": 16,
   "id": "14106811-21a1-48e7-900f-e32d3601ba2e",
   "metadata": {},
   "outputs": [],
   "source": [
    "\n",
    "# Remplacer les valeurs manquantes de margin_low par la médiane\n",
    "df['margin_low'] = df['margin_low'].fillna(df['margin_low'].median())"
   ]
  },
  {
   "cell_type": "code",
   "execution_count": 17,
   "id": "fd6f7cd5-4814-4a5c-947a-19516fab7dd0",
   "metadata": {},
   "outputs": [
    {
     "data": {
      "text/plain": [
       "Target          0\n",
       "diagonal        0\n",
       "height_left     0\n",
       "height_right    0\n",
       "margin_low      0\n",
       "margin_up       0\n",
       "length          0\n",
       "dtype: int64"
      ]
     },
     "execution_count": 17,
     "metadata": {},
     "output_type": "execute_result"
    }
   ],
   "source": [
    "#Taux de valeurs manquantes\n",
    "pd.isnull(df).sum()"
   ]
  },
  {
   "cell_type": "markdown",
   "id": "523d42a3-4214-429e-b01a-fb8957671ea7",
   "metadata": {},
   "source": [
    "<div style=\"background-color: #0c2707; border-radius: 10px;\" >\n",
    "<h2 style=\"margin: auto; padding: 20px; color:#fff; \">Etape 3 - Visualisation</h2>\n",
    "</div>"
   ]
  },
  {
   "cell_type": "code",
   "execution_count": 18,
   "id": "42a53576-02c5-4c8d-8491-d66f0cc0ae46",
   "metadata": {},
   "outputs": [
    {
     "data": {
      "image/png": "[encoded data removed]",
      "text/plain": [
       "<Figure size 640x480 with 2 Axes>"
      ]
     },
     "metadata": {},
     "output_type": "display_data"
    }
   ],
   "source": [
    "#Corrélation entre variables numériques\n",
    "\n",
    "# Matrice de corrélation\n",
    "corr = df.corr(numeric_only=True)\n",
    "sns.heatmap(corr, annot=True, cmap='coolwarm')\n",
    "plt.title('Matrice de corrélation')\n",
    "plt.show()"
   ]
  },
  {
   "cell_type": "markdown",
   "id": "9559b20c-52e3-4321-a896-d3c369bc5164",
   "metadata": {},
   "source": [
    "La matrice de corrélation permet d’identifier les relations entre les variables du dataset et leur influence potentielle sur la variable cible (`Target`).\n",
    "\n",
    "**Corrélations avec la variable cible**\n",
    "\n",
    "- `length` : *+0.85* → Très forte corrélation positive ➝ variable très importante  \n",
    "- `margin_low` : *–0.78* → Forte corrélation négative ➝ très utile \n",
    "- `margin_up` : *–0.61* → Corrélation significative  \n",
    "- `height_right` : *–0.49* → Corrélation modérée  \n",
    "- `height_left` : *–0.38* → Corrélation faible à modérée  \n",
    "- `diagonal` : *+0.13* → Corrélation faible ➝ peu pertinente\n",
    "\n",
    "**Conclusion** : Les variables `length`, `margin_low`, et `margin_up` sont les plus pertinentes pour prédire l’authenticité des billets.\n",
    "\n",
    "**Corrélations entre variables (colinéarité)**\n",
    "\n",
    "Certaines variables sont partiellement redondantes :\n",
    "\n",
    "- `margin_low` et `length` : *–0.66* ➝ attention à la multi-colinéarité (notamment en régression logistique)\n",
    "- `margin_up` et `margin_low` : *+0.43* ➝ corrélation modérée\n",
    "\n",
    "Pour les modèles comme **Random Forest** ou **K-means**, cette redondance n’est pas un problème.  \n",
    "Pour la **régression logistique**, une vérification complémentaire pourrait être faite (ex. avec le VIF)."
   ]
  },
  {
   "cell_type": "markdown",
   "id": "96af2715-036f-4971-b36b-357ea350c1af",
   "metadata": {},
   "source": [
    "<div style=\"background-color: #0c2707; border-radius: 10px;\" >\n",
    "<h2 style=\"margin: auto; padding: 20px; color:#fff; \">Etape 4 - Modelisation</h2>\n",
    "</div>"
   ]
  },
  {
   "cell_type": "markdown",
   "id": "a5913af5-4419-4461-b1cd-6c2c29a308c4",
   "metadata": {},
   "source": [
    "<div style=\" border: 2px solid #00b300; border-radius: 8px; background-color: #ffffff; padding: 10px 20px; margin: 20px 0;\">\n",
    "  <h2 style=\"color: #0c2707; font-family: 'Segoe UI', sans-serif; font-weight: 600; margin: 0;\">\n",
    "    4.1 Importation des librairies\n",
    "  </h2>\n",
    "</div>"
   ]
  },
  {
   "cell_type": "code",
   "execution_count": 19,
   "id": "24f37ae4-fa8d-4816-8ab7-aacc0389332d",
   "metadata": {},
   "outputs": [],
   "source": [
    "# ⚙️ Prétraitement\n",
    "from sklearn.model_selection import train_test_split\n",
    "from sklearn.preprocessing import StandardScaler\n",
    "\n",
    "# 🤖 Modèles de machine learning\n",
    "from sklearn.linear_model import LogisticRegression\n",
    "from sklearn.neighbors import KNeighborsClassifier\n",
    "from sklearn.ensemble import RandomForestClassifier\n",
    "from sklearn.cluster import KMeans\n",
    "\n",
    "# Pour l'Évaluation\n",
    "from sklearn.metrics import confusion_matrix, classification_report, accuracy_score\n",
    "from sklearn.metrics import precision_score, recall_score, f1_score, roc_auc_score"
   ]
  },
  {
   "cell_type": "markdown",
   "id": "7b10ebeb-6d87-40e0-b0c6-87aeda9ff0db",
   "metadata": {},
   "source": [
    "<div style=\" border: 2px solid #00b300; border-radius: 8px; background-color: #ffffff; padding: 10px 20px; margin: 20px 0;\">\n",
    "  <h2 style=\"color: #0c2707; font-family: 'Segoe UI', sans-serif; font-weight: 600; margin: 0;\">\n",
    "    4.2 Encodage de la valeurs cible\n",
    "  </h2>\n",
    "</div>"
   ]
  },
  {
   "cell_type": "code",
   "execution_count": 20,
   "id": "a4bc574c-3dab-4a5a-b6cb-592e62bf6f8a",
   "metadata": {},
   "outputs": [
    {
     "name": "stdout",
     "output_type": "stream",
     "text": [
      "{False: 0, True: 1}\n"
     ]
    }
   ],
   "source": [
    "from sklearn.preprocessing import LabelEncoder\n",
    "\n",
    "# 1. Instancier l'encodeur\n",
    "le = LabelEncoder()\n",
    "\n",
    "# 2. Encoder la colonne 'Target'\n",
    "df['Target'] = le.fit_transform(df['Target'])\n",
    "\n",
    "# 3. Afficher le mapping entre texte et entiers\n",
    "print(dict(zip(le.classes_, le.transform(le.classes_))))"
   ]
  },
  {
   "cell_type": "code",
   "execution_count": 21,
   "id": "abf4752a-9b3a-4870-b19d-0172c2a15877",
   "metadata": {},
   "outputs": [
    {
     "data": {
      "text/html": [
       "<div>\n",
       "<style scoped>\n",
       "    .dataframe tbody tr th:only-of-type {\n",
       "        vertical-align: middle;\n",
       "    }\n",
       "\n",
       "    .dataframe tbody tr th {\n",
       "        vertical-align: top;\n",
       "    }\n",
       "\n",
       "    .dataframe thead th {\n",
       "        text-align: right;\n",
       "    }\n",
       "</style>\n",
       "<table border=\"1\" class=\"dataframe\">\n",
       "  <thead>\n",
       "    <tr style=\"text-align: right;\">\n",
       "      <th></th>\n",
       "      <th>Target</th>\n",
       "      <th>diagonal</th>\n",
       "      <th>height_left</th>\n",
       "      <th>height_right</th>\n",
       "      <th>margin_low</th>\n",
       "      <th>margin_up</th>\n",
       "      <th>length</th>\n",
       "    </tr>\n",
       "  </thead>\n",
       "  <tbody>\n",
       "    <tr>\n",
       "      <th>0</th>\n",
       "      <td>1</td>\n",
       "      <td>171.81</td>\n",
       "      <td>104.86</td>\n",
       "      <td>104.95</td>\n",
       "      <td>4.52</td>\n",
       "      <td>2.89</td>\n",
       "      <td>112.83</td>\n",
       "    </tr>\n",
       "    <tr>\n",
       "      <th>1</th>\n",
       "      <td>1</td>\n",
       "      <td>171.46</td>\n",
       "      <td>103.36</td>\n",
       "      <td>103.66</td>\n",
       "      <td>3.77</td>\n",
       "      <td>2.99</td>\n",
       "      <td>113.09</td>\n",
       "    </tr>\n",
       "    <tr>\n",
       "      <th>2</th>\n",
       "      <td>1</td>\n",
       "      <td>172.69</td>\n",
       "      <td>104.48</td>\n",
       "      <td>103.50</td>\n",
       "      <td>4.40</td>\n",
       "      <td>2.94</td>\n",
       "      <td>113.16</td>\n",
       "    </tr>\n",
       "    <tr>\n",
       "      <th>3</th>\n",
       "      <td>1</td>\n",
       "      <td>171.36</td>\n",
       "      <td>103.91</td>\n",
       "      <td>103.94</td>\n",
       "      <td>3.62</td>\n",
       "      <td>3.01</td>\n",
       "      <td>113.51</td>\n",
       "    </tr>\n",
       "    <tr>\n",
       "      <th>4</th>\n",
       "      <td>1</td>\n",
       "      <td>171.73</td>\n",
       "      <td>104.28</td>\n",
       "      <td>103.46</td>\n",
       "      <td>4.04</td>\n",
       "      <td>3.48</td>\n",
       "      <td>112.54</td>\n",
       "    </tr>\n",
       "  </tbody>\n",
       "</table>\n",
       "</div>"
      ],
      "text/plain": [
       "   Target  diagonal  height_left  height_right  margin_low  margin_up  length\n",
       "0       1    171.81       104.86        104.95        4.52       2.89  112.83\n",
       "1       1    171.46       103.36        103.66        3.77       2.99  113.09\n",
       "2       1    172.69       104.48        103.50        4.40       2.94  113.16\n",
       "3       1    171.36       103.91        103.94        3.62       3.01  113.51\n",
       "4       1    171.73       104.28        103.46        4.04       3.48  112.54"
      ]
     },
     "execution_count": 21,
     "metadata": {},
     "output_type": "execute_result"
    }
   ],
   "source": [
    "df.head()"
   ]
  },
  {
   "cell_type": "markdown",
   "id": "fd352234-7ec2-47e3-89eb-90b70da9bfc6",
   "metadata": {},
   "source": [
    "<div style=\" border: 2px solid #00b300; border-radius: 8px; background-color: #ffffff; padding: 10px 20px; margin: 20px 0;\">\n",
    "  <h2 style=\"color: #0c2707; font-family: 'Segoe UI', sans-serif; font-weight: 600; margin: 0;\">\n",
    "    4.3 La preparation des données \n",
    "  </h2>\n",
    "</div>"
   ]
  },
  {
   "cell_type": "code",
   "execution_count": 22,
   "id": "f300c68c-b3f1-4d10-b2f6-ae33229db5b8",
   "metadata": {},
   "outputs": [],
   "source": [
    "# Separation les variables indépendantes et variables dépendante\n",
    "X = df.drop(columns=['Target'])  # toutes les colonnes sauf la cible\n",
    "y = df['Target']                 # colonne cible"
   ]
  },
  {
   "cell_type": "code",
   "execution_count": 23,
   "id": "d22f293a-78a7-4ee1-86f9-252df26adfb5",
   "metadata": {},
   "outputs": [
    {
     "name": "stdout",
     "output_type": "stream",
     "text": [
      "Premier échantillon après standardisation :\n",
      "[[-0.48653957  2.77412327  3.16324041  0.0585032  -1.128325    0.17365114]\n",
      " [-1.63372936 -2.23653528 -0.79966777 -1.08493153 -0.69679916  0.47166629]\n",
      " [ 2.3978233   1.50475644 -1.29119126 -0.12444635 -0.91256208  0.55190114]\n",
      " [-1.96149786 -0.39929381  0.06049835 -1.31361847 -0.61049399  0.95307539]\n",
      " [-0.74875438  0.83666863 -1.41407214 -0.67329502  1.41767746 -0.15875038]]\n"
     ]
    }
   ],
   "source": [
    "\n",
    "# Standardisation des variables numériques : ici on standarise tout d'abord avant de faire le split\n",
    "#from sklearn.preprocessing import StandardScaler # le module, deja importer \n",
    "\n",
    "scaler = StandardScaler()\n",
    "X_scaled = scaler.fit_transform(X)\n",
    "\n",
    "# Vérification rapide\n",
    "print(\"Premier échantillon après standardisation :\")\n",
    "print(X_scaled[:5])\n"
   ]
  },
  {
   "cell_type": "code",
   "execution_count": 24,
   "id": "8d0c3e47-8588-4b8f-a3fd-10a8623b7da4",
   "metadata": {},
   "outputs": [
    {
     "name": "stdout",
     "output_type": "stream",
     "text": [
      "\n",
      "📌 Dimensions des jeux de données :\n",
      "X_train : (1050, 6), X_test : (450, 6)\n",
      "y_train : (1050,), y_test : (450,)\n"
     ]
    }
   ],
   "source": [
    "# Découpage en jeu d'entraînement et de test\n",
    "# from sklearn.model_selection import train_test_split\n",
    "\n",
    "X_train, X_test, y_train, y_test = train_test_split( X_scaled, y, test_size=0.3, random_state=42, stratify=y)\n",
    "\n",
    "# Vérification des dimensions\n",
    "print(\"\\n📌 Dimensions des jeux de données :\")\n",
    "print(f\"X_train : {X_train.shape}, X_test : {X_test.shape}\")\n",
    "print(f\"y_train : {y_train.shape}, y_test : {y_test.shape}\")"
   ]
  },
  {
   "cell_type": "code",
   "execution_count": 25,
   "id": "6c8271a8-f889-40b3-970a-cbc9a3b3b583",
   "metadata": {},
   "outputs": [
    {
     "name": "stdout",
     "output_type": "stream",
     "text": [
      "\n",
      "📌 Répartition des classes dans y_train :\n",
      "Target\n",
      "1    700\n",
      "0    350\n",
      "Name: count, dtype: int64\n",
      "\n",
      "📌 Répartition des classes dans y_test :\n",
      "Target\n",
      "1    300\n",
      "0    150\n",
      "Name: count, dtype: int64\n"
     ]
    }
   ],
   "source": [
    "# Vérification de la répartition des classes\n",
    "print(\"\\n📌 Répartition des classes dans y_train :\")\n",
    "print(y_train.value_counts())\n",
    "print(\"\\n📌 Répartition des classes dans y_test :\")\n",
    "print(y_test.value_counts())"
   ]
  },
  {
   "cell_type": "markdown",
   "id": "0d52fc4b-d544-4ec2-a7be-9a4b4579e9f2",
   "metadata": {},
   "source": [
    "<div style=\" border: 2px solid #00b300; border-radius: 8px; background-color: #ffffff; padding: 10px 20px; margin: 20px 0;\">\n",
    "  <h2 style=\"color: #0c2707; font-family: 'Segoe UI', sans-serif; font-weight: 600; margin: 0;\">\n",
    "    4.4 Construction des modèles\n",
    "  </h2>\n",
    "</div>"
   ]
  },
  {
   "cell_type": "markdown",
   "id": "a47023ed-fd53-4384-84d2-d4a233abf380",
   "metadata": {},
   "source": [
    "creer le modele en utilisant les algorithmes suivantes :\n",
    "- de la logistic regression avec comme paramettre solver = \"saga\" et max inter = 1000\n",
    "- K-means (clustering)\n",
    "- K-Nearest Neighbors (KNN)\n",
    "- Random Forest"
   ]
  },
  {
   "cell_type": "code",
   "execution_count": 26,
   "id": "7561ff79-9548-4645-bdf9-bb4d77733110",
   "metadata": {},
   "outputs": [
    {
     "name": "stdout",
     "output_type": "stream",
     "text": [
      "--- Évaluation du modèle : Régression Logistique ---\n",
      "Accuracy : 0.9867\n",
      "Précision : 0.9933\n",
      "Rappel : 0.9867\n",
      "F1-score : 0.99\n",
      "Matrice de confusion :\n",
      " [[148   2]\n",
      " [  4 296]]\n",
      "              precision    recall  f1-score   support\n",
      "\n",
      "           0       0.97      0.99      0.98       150\n",
      "           1       0.99      0.99      0.99       300\n",
      "\n",
      "    accuracy                           0.99       450\n",
      "   macro avg       0.98      0.99      0.99       450\n",
      "weighted avg       0.99      0.99      0.99       450\n",
      "\n",
      "\n",
      "\n",
      "--- Évaluation du modèle : KNN ---\n",
      "Accuracy : 0.9867\n",
      "Précision : 0.9868\n",
      "Rappel : 0.9933\n",
      "F1-score : 0.99\n",
      "Matrice de confusion :\n",
      " [[146   4]\n",
      " [  2 298]]\n",
      "              precision    recall  f1-score   support\n",
      "\n",
      "           0       0.99      0.97      0.98       150\n",
      "           1       0.99      0.99      0.99       300\n",
      "\n",
      "    accuracy                           0.99       450\n",
      "   macro avg       0.99      0.98      0.98       450\n",
      "weighted avg       0.99      0.99      0.99       450\n",
      "\n",
      "\n",
      "\n",
      "--- Évaluation du modèle : Random Forest ---\n",
      "Accuracy : 0.9889\n",
      "Précision : 0.99\n",
      "Rappel : 0.9933\n",
      "F1-score : 0.9917\n",
      "Matrice de confusion :\n",
      " [[147   3]\n",
      " [  2 298]]\n",
      "              precision    recall  f1-score   support\n",
      "\n",
      "           0       0.99      0.98      0.98       150\n",
      "           1       0.99      0.99      0.99       300\n",
      "\n",
      "    accuracy                           0.99       450\n",
      "   macro avg       0.99      0.99      0.99       450\n",
      "weighted avg       0.99      0.99      0.99       450\n",
      "\n",
      "\n",
      "\n"
     ]
    },
    {
     "name": "stderr",
     "output_type": "stream",
     "text": [
      "C:\\Users\\Fureur\\anaconda3\\Lib\\site-packages\\joblib\\externals\\loky\\backend\\context.py:136: UserWarning: Could not find the number of physical cores for the following reason:\n",
      "[WinError 2] Le fichier spécifié est introuvable\n",
      "Returning the number of logical cores instead. You can silence this warning by setting LOKY_MAX_CPU_COUNT to the number of cores you want to use.\n",
      "  warnings.warn(\n",
      "  File \"C:\\Users\\Fureur\\anaconda3\\Lib\\site-packages\\joblib\\externals\\loky\\backend\\context.py\", line 257, in _count_physical_cores\n",
      "    cpu_info = subprocess.run(\n",
      "               ^^^^^^^^^^^^^^^\n",
      "  File \"C:\\Users\\Fureur\\anaconda3\\Lib\\subprocess.py\", line 548, in run\n",
      "    with Popen(*popenargs, **kwargs) as process:\n",
      "         ^^^^^^^^^^^^^^^^^^^^^^^^^^^\n",
      "  File \"C:\\Users\\Fureur\\anaconda3\\Lib\\subprocess.py\", line 1026, in __init__\n",
      "    self._execute_child(args, executable, preexec_fn, close_fds,\n",
      "  File \"C:\\Users\\Fureur\\anaconda3\\Lib\\subprocess.py\", line 1538, in _execute_child\n",
      "    hp, ht, pid, tid = _winapi.CreateProcess(executable, args,\n",
      "                       ^^^^^^^^^^^^^^^^^^^^^^^^^^^^^^^^^^^^^^^\n"
     ]
    },
    {
     "name": "stdout",
     "output_type": "stream",
     "text": [
      "--- Évaluation du modèle : K-means ---\n",
      "Accuracy : 0.9844\n",
      "Précision : 0.9867\n",
      "Rappel : 0.99\n",
      "F1-score : 0.9884\n",
      "Matrice de confusion :\n",
      " [[146   4]\n",
      " [  3 297]]\n",
      "              precision    recall  f1-score   support\n",
      "\n",
      "           0       0.98      0.97      0.98       150\n",
      "           1       0.99      0.99      0.99       300\n",
      "\n",
      "    accuracy                           0.98       450\n",
      "   macro avg       0.98      0.98      0.98       450\n",
      "weighted avg       0.98      0.98      0.98       450\n",
      "\n",
      "\n",
      "\n"
     ]
    },
    {
     "name": "stderr",
     "output_type": "stream",
     "text": [
      "C:\\Users\\Fureur\\anaconda3\\Lib\\site-packages\\sklearn\\cluster\\_kmeans.py:1429: UserWarning: KMeans is known to have a memory leak on Windows with MKL, when there are less chunks than available threads. You can avoid it by setting the environment variable OMP_NUM_THREADS=5.\n",
      "  warnings.warn(\n"
     ]
    }
   ],
   "source": [
    "# Fonction pour évaluer les modèles\n",
    "def evaluate_model(y_true, y_pred, model_name):\n",
    "    print(f\"--- Évaluation du modèle : {model_name} ---\")\n",
    "    print(\"Accuracy :\", round(accuracy_score(y_true, y_pred), 4))\n",
    "    print(\"Précision :\", round(precision_score(y_true, y_pred, pos_label=1), 4))\n",
    "    print(\"Rappel :\", round(recall_score(y_true, y_pred, pos_label=1), 4))\n",
    "    print(\"F1-score :\", round(f1_score(y_true, y_pred, pos_label=1), 4))\n",
    "    print(\"Matrice de confusion :\\n\", confusion_matrix(y_true, y_pred))\n",
    "    print(classification_report(y_true, y_pred))\n",
    "    print(\"\\n\")\n",
    "\n",
    "# ------------------------------\n",
    "# Régression logistique\n",
    "logreg = LogisticRegression(\n",
    "    solver=\"saga\",\n",
    "    max_iter=1000,\n",
    "    C=1.0,\n",
    "    penalty=\"l2\",\n",
    "    class_weight=\"balanced\",\n",
    "    random_state=42\n",
    ")\n",
    "logreg.fit(X_train, y_train)\n",
    "y_pred_logreg = logreg.predict(X_test)\n",
    "evaluate_model(y_test, y_pred_logreg, \"Régression Logistique\")\n",
    "\n",
    "# ------------------------------\n",
    "# KNN\n",
    "knn = KNeighborsClassifier(\n",
    "    n_neighbors=5,\n",
    "    weights=\"distance\",\n",
    "    metric=\"minkowski\",\n",
    "    algorithm=\"auto\"\n",
    ")\n",
    "knn.fit(X_train, y_train)\n",
    "y_pred_knn = knn.predict(X_test)\n",
    "evaluate_model(y_test, y_pred_knn, \"KNN\")\n",
    "\n",
    "# ------------------------------\n",
    "# Random Forest\n",
    "rf = RandomForestClassifier(\n",
    "    n_estimators=200,\n",
    "    max_depth=None,\n",
    "    min_samples_split=2,\n",
    "    min_samples_leaf=1,\n",
    "    max_features=\"sqrt\",\n",
    "    class_weight=\"balanced\",\n",
    "    random_state=42\n",
    ")\n",
    "rf.fit(X_train, y_train)\n",
    "y_pred_rf = rf.predict(X_test)\n",
    "evaluate_model(y_test, y_pred_rf, \"Random Forest\")\n",
    "\n",
    "# ------------------------------\n",
    "# K-means (non supervisé)\n",
    "kmeans = KMeans(\n",
    "    n_clusters=2,\n",
    "    init=\"k-means++\",\n",
    "    n_init=20,\n",
    "    max_iter=300,\n",
    "    random_state=42\n",
    ")\n",
    "kmeans.fit(X_train)\n",
    "cluster_labels = kmeans.predict(X_test)\n",
    "\n",
    "# Mapping des clusters aux classes réelles\n",
    "mapping = {}\n",
    "for cluster in np.unique(cluster_labels):\n",
    "    indices = np.where(cluster_labels == cluster)\n",
    "    true_labels = y_test.iloc[indices]\n",
    "    most_common = true_labels.mode()[0]\n",
    "    mapping[cluster] = most_common\n",
    "\n",
    "y_pred_kmeans = [mapping[c] for c in cluster_labels]\n",
    "evaluate_model(y_test, y_pred_kmeans, \"K-means\")"
   ]
  },
  {
   "cell_type": "markdown",
   "id": "27ec7aeb-0450-4a46-b74c-7c96ee485a45",
   "metadata": {},
   "source": [
    "#### Conclusion : Le meilleur modèle est la Régression Logistique\n",
    "\n",
    "D’après les tests réalisés, le Random Forest obtient la meilleure accuracy (98,89%) ainsi que le meilleur F1-score (0,9917), ce qui montre qu’il parvient à trouver le meilleur équilibre entre la précision et le rappel. Cela signifie qu’il est très performant pour détecter à la fois les faux billets et les vrais billets, avec un très faible taux d’erreurs.\n",
    "\n",
    "Dans le contexte de la détection de faux billets, le rappel est crucial : on veut éviter de laisser passer un faux billet.\n",
    "Or, le Random Forest offre :\n",
    "\n",
    "- Un rappel élevé (0,9933) → très peu de faux négatifs.\n",
    "- Une précision élevée (0,99) → peu de faux positifs.\n",
    "- Une robustesse supérieure grâce à son fonctionnement basé sur plusieurs arbres de décision.\n",
    "\n",
    "Pour ce projet, j’ai choisi Random Forest comme meilleur modèle, car il obtient les meilleurs résultats globaux tout en maximisant la détection des faux billets et en réduisant au minimum les erreurs."
   ]
  },
  {
   "cell_type": "markdown",
   "id": "898afd9d-3469-4c81-a941-ffec4e65b429",
   "metadata": {},
   "source": [
    "<div style=\" border: 2px solid #00b300; border-radius: 8px; background-color: #ffffff; padding: 10px 20px; margin: 20px 0;\">\n",
    "  <h2 style=\"color: #0c2707; font-family: 'Segoe UI', sans-serif; font-weight: 600; margin: 0;\">\n",
    "    4.5 choix tu modèle et prédiction\n",
    "  </h2>\n",
    "</div>"
   ]
  },
  {
   "cell_type": "code",
   "execution_count": 27,
   "id": "2db678c3-80fb-426e-9d83-67ab6bf06841",
   "metadata": {},
   "outputs": [
    {
     "name": "stdout",
     "output_type": "stream",
     "text": [
      "📌 Premières prédictions :\n",
      "[1 1 1 1 0 1 1 1 1 0]\n"
     ]
    }
   ],
   "source": [
    "# ------------------------------\n",
    "# Choix du meilleur modèle\n",
    "best_model = rf  # Régression Logistique retenue\n",
    "\n",
    "# ------------------------------\n",
    "# Faire les prédictions sur le jeu test\n",
    "y_pred_final = best_model.predict(X_test)\n",
    "\n",
    "# Vérification rapide\n",
    "print(\"📌 Premières prédictions :\")\n",
    "print(y_pred_final[:10])"
   ]
  },
  {
   "cell_type": "markdown",
   "id": "7bb9ac31-534d-4ab5-8358-0716045992bc",
   "metadata": {},
   "source": [
    "<div style=\" border: 2px solid #00b300; border-radius: 8px; background-color: #ffffff; padding: 10px 20px; margin: 20px 0;\">\n",
    "  <h2 style=\"color: #0c2707; font-family: 'Segoe UI', sans-serif; font-weight: 600; margin: 0;\">\n",
    "    4.6 Enregistrement du modèle\n",
    "  </h2>\n",
    "</div>"
   ]
  },
  {
   "cell_type": "code",
   "execution_count": 28,
   "id": "b997f6f6-778a-43f9-ac3d-507d8a583d73",
   "metadata": {},
   "outputs": [],
   "source": [
    "# 💾 Sauvegarde du modèle\n",
    "import joblib\n",
    "\n",
    "# ⚠️ Pour ignorer les warnings\n",
    "#import warnings\n",
    "#warnings.filterwarnings('ignore')\n",
    "\n",
    "# 🌐 (À utiliser plus tard pour l’API et Streamlit)\n",
    "# from fastapi import FastAPI\n",
    "# import uvicorn\n",
    "# import streamlit as st"
   ]
  },
  {
   "cell_type": "code",
   "execution_count": 29,
   "id": "c49d9eb1-286b-4ba0-9d50-1baa5ad2d5a7",
   "metadata": {},
   "outputs": [
    {
     "name": "stdout",
     "output_type": "stream",
     "text": [
      "✅ Modèle sauvegardé sous : best_model_rf.pkl\n"
     ]
    }
   ],
   "source": [
    "# ------------------------------\n",
    "# Sauvegarder le modèle pour FastAPI\n",
    "model_filename = \"best_model_rf.pkl\"\n",
    "joblib.dump(best_model, model_filename)\n",
    "print(f\"✅ Modèle sauvegardé sous : {model_filename}\")"
   ]
  },
  {
   "cell_type": "code",
   "execution_count": 30,
   "id": "97fcbbdc-cfb3-4520-a8c9-fd3d6ba7d9eb",
   "metadata": {},
   "outputs": [
    {
     "name": "stdout",
     "output_type": "stream",
     "text": [
      " Scaler sauvegardé sous : scaler.pkl\n"
     ]
    }
   ],
   "source": [
    "# ------------------------------\n",
    "# Sauvegarder également le scaler\n",
    "scaler_filename = \"scaler.pkl\"\n",
    "joblib.dump(scaler, scaler_filename)\n",
    "print(f\" Scaler sauvegardé sous : {scaler_filename}\")"
   ]
  },
  {
   "cell_type": "code",
   "execution_count": null,
   "id": "4b9c3840-5a9b-4498-9bd4-bdab8a96f738",
   "metadata": {},
   "outputs": [],
   "source": []
  }
 ],
 "metadata": {
  "kernelspec": {
   "display_name": "Python [conda env:base] *",
   "language": "python",
   "name": "conda-base-py"
  },
  "language_info": {
   "codemirror_mode": {
    "name": "ipython",
    "version": 3
   },
   "file_extension": ".py",
   "mimetype": "text/x-python",
   "name": "python",
   "nbconvert_exporter": "python",
   "pygments_lexer": "ipython3",
   "version": "3.12.7"
  }
 },
 "nbformat": 4,
 "nbformat_minor": 5
}
